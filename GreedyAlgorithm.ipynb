{
 "cells": [
  {
   "cell_type": "markdown",
   "metadata": {},
   "source": [
    "# Greedy Algorithm (貪欲法)\n",
    "\n",
    "以下の問題は, 貪欲法を用いると簡単に実装することができます. それでは実際に問題を解いて, アルゴリズム力を養いましょう."
   ]
  },
  {
   "cell_type": "markdown",
   "metadata": {},
   "source": [
    "## Problem 1\n",
    "\n",
    "あるリストが与えられたとき, そのリスト内の要素を掛け合わせてできる最小の値を求めてください.  ただし, 時間計算量はO(n)に抑えてください.  \n",
    "\n",
    "e.g.)  \n",
    "Input: [-2, -1, 3, -3, 4] - Output: -72  \n",
    "Input: [0, -3, 1, 4, -4, 5] - Output: -80  \n",
    "Input: [3, 2, 5, 1, 9] - Output: 1"
   ]
  },
  {
   "cell_type": "code",
   "execution_count": 1,
   "metadata": {},
   "outputs": [],
   "source": [
    "def findMinProductSubset(lst):    \n",
    "    if len(lst) == 1:\n",
    "        return lst\n",
    "    l = []\n",
    "    r = []\n",
    "    for i in range(len(lst)):\n",
    "        if lst[i] < 0:\n",
    "            l.append(lst[i])\n",
    "            \n",
    "    if len(l) == 0:\n",
    "        return min(lst)\n",
    "    if len(l) > 0:\n",
    "        if len(l) % 2 == 0:\n",
    "            l.remove(max(l)) \n",
    "    for j in range(len(lst)):\n",
    "        if lst[j] > 0:\n",
    "            r.append(lst[j])\n",
    "\n",
    "    total = 1\n",
    "    for k in range(len(l)):\n",
    "        total *= l[k]\n",
    "\n",
    "    for n in range (len(r)):\n",
    "        total *= r[n]\n",
    "\n",
    "    return total"
   ]
  },
  {
   "cell_type": "markdown",
   "metadata": {},
   "source": [
    "## Driver Code\n",
    "\n",
    "それでは, 以下のセルを実行して上記で定義した関数をテストしてみましょう."
   ]
  },
  {
   "cell_type": "code",
   "execution_count": 2,
   "metadata": {},
   "outputs": [
    {
     "name": "stdout",
     "output_type": "stream",
     "text": [
      "lst1: -72\n",
      "lst2: -80\n",
      "lst3: 1\n"
     ]
    }
   ],
   "source": [
    "lst1 = [-2, -1, 3, -3, 4]\n",
    "lst2 = [0, -3, 1, 4, -4, 5]\n",
    "lst3 = [3, 2, 5, 1, 9]\n",
    "print('lst1:', findMinProductSubset(lst1))\n",
    "print('lst2:', findMinProductSubset(lst2))\n",
    "print('lst3:', findMinProductSubset(lst3))"
   ]
  },
  {
   "cell_type": "markdown",
   "metadata": {},
   "source": [
    "## Problem 2\n",
    "\n",
    "`(開始時間, 終了時間)`という, 仕事にかかる時間を表したタプルのリストが与えられたときに, 仕事同士が被らずかつ仕事量の合計が最大になるような, 仕事のリストを返してください.  \n",
    "\n",
    "e.g.)  \n",
    "Input: [(0, 6), (1, 4), (3, 5), (3, 8), (4, 7), (5, 9), (6, 10), (8, 11)] - Output: [(1, 4), (4, 7), (8, 11)]  \n",
    "Input: [(3, 5), (2, 4), (1, 3), (3, 7), (4, 6), (6, 9)] - Output: [(1, 3), (3, 5), (6, 9)]"
   ]
  },
  {
   "cell_type": "code",
   "execution_count": 3,
   "metadata": {},
   "outputs": [],
   "source": [
    "def findMaxActivities(jobs):\n",
    "    l = []\n",
    "    for i in range(len(jobs)):\n",
    "        for j in range(len(jobs)):\n",
    "            if jobs[i][-1] <= jobs[j][0]:\n",
    "                a = []\n",
    "                a.append(jobs[i])\n",
    "                a.append(jobs[j])\n",
    "                for k in range (len(jobs)):\n",
    "                    if jobs[j][-1]<= jobs[k][0]:\n",
    "                        a.append(jobs[k])\n",
    "                l.append(a)\n",
    "                \n",
    "    l_2 = []\n",
    "    for m in range(len(l)):   \n",
    "        total = 0\n",
    "        for n in range(len(l[m])):\n",
    "            c = l[m][n][1] - l[m][n][0]\n",
    "            total += c\n",
    "        l_2.append(total)\n",
    "        \n",
    "    l_3 = []\n",
    "    for o in range(len(l_2)):\n",
    "        if l_2[o] == max(l_2):\n",
    "            l_3.append(l[o])\n",
    "    return l_3"
   ]
  },
  {
   "cell_type": "markdown",
   "metadata": {},
   "source": [
    "## Driver Code\n",
    "\n",
    "それでは, 以下のセルを実行して上記で定義した関数をテストしてみましょう."
   ]
  },
  {
   "cell_type": "code",
   "execution_count": 4,
   "metadata": {},
   "outputs": [
    {
     "name": "stdout",
     "output_type": "stream",
     "text": [
      "Jobs#1: [[(0, 6), (6, 10)]]\n",
      "Jobs#2: [[(2, 4), (4, 6), (6, 9)], [(1, 3), (3, 5), (6, 9)], [(1, 3), (4, 6), (6, 9)]]\n"
     ]
    }
   ],
   "source": [
    "jobs1 = [(0, 6), (1, 4), (3, 5), (3, 8), (4, 7), (5, 9), (6, 10), (8, 11)]\n",
    "jobs2 = [(3, 5), (2, 4), (1, 3), (3, 7), (4, 6), (6, 9)]\n",
    "print('Jobs#1:', end=' ')\n",
    "print(findMaxActivities(jobs1))\n",
    "print('Jobs#2:', end=' ')\n",
    "print(findMaxActivities(jobs2))"
   ]
  }
 ],
 "metadata": {
  "kernelspec": {
   "display_name": "Python 3",
   "language": "python",
   "name": "python3"
  },
  "language_info": {
   "codemirror_mode": {
    "name": "ipython",
    "version": 3
   },
   "file_extension": ".py",
   "mimetype": "text/x-python",
   "name": "python",
   "nbconvert_exporter": "python",
   "pygments_lexer": "ipython3",
   "version": "3.7.4"
  }
 },
 "nbformat": 4,
 "nbformat_minor": 2
}
